{
 "cells": [
  {
   "cell_type": "markdown",
   "metadata": {
    "id": "KdERlTpFuL5V"
   },
   "source": [
    "# Exercises"
   ]
  },
  {
   "cell_type": "markdown",
   "metadata": {
    "id": "to-gsrQyuL5Z"
   },
   "source": [
    "### #1 - Calculate the BMI (body mass index) on the two lists below using NDArrays..."
   ]
  },
  {
   "cell_type": "code",
   "execution_count": 4,
   "metadata": {
    "id": "iZlf9DzeuL5a"
   },
   "outputs": [
    {
     "name": "stdout",
     "output_type": "stream",
     "text": [
      "Height: 69, weight: 110 lb, BMI: 16.87\n",
      "Height: 70, weight: 120 lb, BMI: 17.88\n",
      "Height: 71, weight: 130 lb, BMI: 18.83\n",
      "Height: 72, weight: 140 lb, BMI: 19.71\n",
      "Height: 73, weight: 150 lb, BMI: 20.55\n",
      "Height: 74, weight: 160 lb, BMI: 21.33\n",
      "Height: 75, weight: 170 lb, BMI: 22.06\n"
     ]
    }
   ],
   "source": [
    "import numpy as np\n",
    "\n",
    "# formula = weight / (height**2) * 730\n",
    "\n",
    "height = np.array([69, 70, 71, 72, 73, 74, 75])\n",
    "weight = np.array([110, 120, 130, 140, 150, 160, 170])\n",
    "\n",
    "bmi = weight / (height**2) * 730\n",
    "\n",
    "for h, w, b in zip(height, weight, bmi):\n",
    "    print(f\"Height: {h}, weight: {w} lb, BMI: {b:.2f}\")\n",
    "\n"
   ]
  },
  {
   "cell_type": "markdown",
   "metadata": {
    "id": "RSsT8w8ouL5b"
   },
   "source": [
    "### #2 - Create a function that will take in two parameters and will create a random matrix based off of those parameters. Extra: Have additional parameters taken in that allow the user to choose the shape and data type of the matrix."
   ]
  },
  {
   "cell_type": "code",
   "execution_count": 16,
   "metadata": {
    "id": "ygFvj0aeuL5b"
   },
   "outputs": [
    {
     "name": "stdout",
     "output_type": "stream",
     "text": [
      "[[0 0 0 0 0 0 0 0]\n",
      " [0 0 0 0 0 0 0 0]\n",
      " [0 0 0 0 0 0 0 0]\n",
      " [0 0 0 0 0 0 0 0]\n",
      " [0 0 0 0 0 0 0 0]\n",
      " [0 0 0 0 0 0 0 0]\n",
      " [0 0 0 0 0 0 0 0]\n",
      " [0 0 0 0 0 0 0 0]]\n"
     ]
    }
   ],
   "source": [
    "import numpy as np\n",
    "\n",
    "def generate_matrix(rows, columns, datatype='float', low=0, high=1):\n",
    "    if data_type not in ('int', 'float'):\n",
    "        raise ValueError(\"El tipo de datos debe ser 'int' o 'float'.\")\n",
    "\n",
    "    if data_type == 'int':\n",
    "        matrix = np.random.randint(low, high + 1, size=(rows, columns))\n",
    "    else:\n",
    "        matrix = np.random.uniform(low, high, size=(rows, columns))\n",
    "\n",
    "    return matrix\n",
    "\n",
    "rows = 8\n",
    "colums = 8\n",
    "data_type = 'int' \n",
    "low = 0\n",
    "high = 0\n",
    "\n",
    "random_matrix = generate_matrix(rows, colums, data_type, low, high)\n",
    "print(random_matrix)"
   ]
  },
  {
   "cell_type": "markdown",
   "metadata": {
    "id": "e5mP1UX9uL5c"
   },
   "source": [
    "### #3 - Extra: Open and load the data in the two text files that have the Boston Red Sox hitting data for the past seasons. Compare the difference in the two years by putting the data into an NDArray and running a differencial operation on it. The column to look for will be SLG.\n",
    "\n",
    "Your output should display which year (either 2017 or 2018) was a better year based on SLG"
   ]
  },
  {
   "cell_type": "code",
   "execution_count": 4,
   "metadata": {
    "id": "iAExC-SjuL5c"
   },
   "outputs": [
    {
     "name": "stdout",
     "output_type": "stream",
     "text": [
      "Based on SLG, the better year was: 2018\n"
     ]
    }
   ],
   "source": [
    "import csv\n",
    "import numpy as np\n",
    "\n",
    "FIELDS = ['Rk', 'Pos', 'Name', 'Age', 'G', 'PA', 'AB', 'R', 'H', '2B', '3B', 'HR', 'RBI', 'SB', 'CS', \n",
    "          'BB', 'SO', 'BA', 'OBP', 'SLG', 'OPS', 'OPS+', 'TB', 'GDP', 'HBP', 'SH', 'SF', 'IBB']\n",
    "\n",
    "DATATYPES = [('rk', 'i'), ('pos', '|S25'), ('name', '|S25'), ('age', 'i'), ('g', 'i'), ('pa', 'i'), ('ab', 'i'),\n",
    "                ('r', 'i'), ('h', 'i'), ('2b', 'i'), ('3b', 'i'), ('hr', 'i'), ('rbi', 'i'), ('sb', 'i'), ('cs', 'i'),\n",
    "                ('bb', 'i'), ('so', 'i'), ('ba', 'f'), ('obp', 'f'), ('slg', 'f'), ('ops', 'f'), ('opsp', 'i'),\n",
    "                ('tb', 'i'), ('gdp', 'i'), ('hbp', 'i'), ('sh', 'i'), ('sf', 'i'), ('ibb', 'i')]\n",
    "\n",
    "data_2017 = np.loadtxt('redsox_2017_hitting.txt', delimiter=',', skiprows=1, usecols=(3,))\n",
    "data_2018 = np.loadtxt('redsox_2018_hitting.txt', delimiter=',', skiprows=1, usecols=(3,))\n",
    "slg_diff = np.mean(data_2018) - np.mean(data_2017)\n",
    "\n",
    "better_year = \"2018\" if slg_diff > 0 else \"2017\"\n",
    "\n",
    "print(\"Based on SLG, the better year was:\", better_year)"
   ]
  },
  {
   "cell_type": "code",
   "execution_count": null,
   "metadata": {
    "id": "P8Rwr8lmuL5e"
   },
   "outputs": [],
   "source": [
    "\n"
   ]
  }
 ],
 "metadata": {
  "colab": {
   "name": "Copy of Data_Science_Day_1_Exercises-Day1- Homework.ipynb",
   "provenance": []
  },
  "kernelspec": {
   "display_name": "Python 3 (ipykernel)",
   "language": "python",
   "name": "python3"
  },
  "language_info": {
   "codemirror_mode": {
    "name": "ipython",
    "version": 3
   },
   "file_extension": ".py",
   "mimetype": "text/x-python",
   "name": "python",
   "nbconvert_exporter": "python",
   "pygments_lexer": "ipython3",
   "version": "3.11.5"
  }
 },
 "nbformat": 4,
 "nbformat_minor": 1
}
